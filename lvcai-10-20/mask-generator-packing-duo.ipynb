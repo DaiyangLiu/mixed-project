{
 "cells": [
  {
   "cell_type": "code",
   "execution_count": 1,
   "metadata": {},
   "outputs": [],
   "source": [
    "import os \n",
    "import numpy as np\n",
    "import matplotlib as pyplt\n",
    "import pandas as pd\n",
    "%matplotlib inline"
   ]
  },
  {
   "cell_type": "code",
   "execution_count": 2,
   "metadata": {},
   "outputs": [],
   "source": [
    "df=pd.read_csv('json_duo.csv')\n",
    "length = df.shape[0]\n",
    "size=(480,480,10)\n"
   ]
  },
  {
   "cell_type": "code",
   "execution_count": 9,
   "metadata": {},
   "outputs": [],
   "source": [
    "def mask_gen_duo(csv_src, label_dir, size=(480,480,10)):\n",
    "    df=pd.read_csv(csv_src)\n",
    "    length = df.shape[0]\n",
    "    \n",
    "    for i in range(length):\n",
    "        sample=df.iloc[i]\n",
    "        file_name=sample['file_name']\n",
    "        try:\n",
    "            tnpy=np.load(label_dir+file_name[:-4]+'_label.npy')\n",
    "        except:\n",
    "            tnpy=np.zeros(size)\n",
    "        \n",
    "        tslice=tnpy[:,:,sample['label']]\n",
    "        x_start=int((sample['y']* size[0] ) /1920) \n",
    "        x_end=int(((sample['y'] + sample['h'])*size[0] ) /1920) \n",
    "        y_start=int((sample['x']*size[1] ) /2560) \n",
    "        y_end=int(((sample['x']+sample['w'])*size[1] ) /2560)\n",
    "\n",
    "        tslice[x_start:x_end, y_start:y_end]=1\n",
    "        tnpy=tnpy.astype('int8')\n",
    "        np.save(label_dir+sample['file_name'][:-4]+'_label.npy',tnpy)\n",
    "    "
   ]
  },
  {
   "cell_type": "code",
   "execution_count": 10,
   "metadata": {},
   "outputs": [],
   "source": [
    "mask_gen_duo(csv_src='json_duo.csv', label_dir='F:/lvcai/guangdong_round2_train_20181011/labelsq/', size=(480,480,10))"
   ]
  },
  {
   "cell_type": "code",
   "execution_count": null,
   "metadata": {},
   "outputs": [],
   "source": []
  }
 ],
 "metadata": {
  "kernelspec": {
   "display_name": "Python 3",
   "language": "python",
   "name": "python3"
  },
  "language_info": {
   "codemirror_mode": {
    "name": "ipython",
    "version": 3
   },
   "file_extension": ".py",
   "mimetype": "text/x-python",
   "name": "python",
   "nbconvert_exporter": "python",
   "pygments_lexer": "ipython3",
   "version": "3.5.5"
  }
 },
 "nbformat": 4,
 "nbformat_minor": 2
}
