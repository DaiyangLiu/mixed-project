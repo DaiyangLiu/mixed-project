{
 "cells": [
  {
   "cell_type": "code",
   "execution_count": 2,
   "metadata": {},
   "outputs": [],
   "source": [
    "import os\n",
    "import cv2\n",
    "import numpy as np\n",
    "import pandas as pd\n",
    "import PIL\n",
    "import matplotlib.pyplot as plt\n",
    "%matplotlib inline"
   ]
  },
  {
   "cell_type": "code",
   "execution_count": 3,
   "metadata": {},
   "outputs": [],
   "source": [
    "def cv_imread(filePath):\n",
    "    cv_img=cv2.imdecode(np.fromfile(filePath,dtype=np.uint8),-1)\n",
    "    ## imdecode读取的是rgb，如果后续需要opencv处理的话，需要转换成bgr，转换后图片颜色会变化\n",
    "    ##cv_img=cv2.cvtColor(cv_img,cv2.COLOR_RGB2BGR)\n",
    "    return cv_img"
   ]
  },
  {
   "cell_type": "code",
   "execution_count": 4,
   "metadata": {},
   "outputs": [],
   "source": [
    "def normalize_(img):\n",
    "    #分别对每一层进行归一化\n",
    "    new_img=np.zeros(img.shape)\n",
    "    new_img[:,:,0]=(img[:,:,0]-np.mean(img[:,:,0]))/np.std(img[:,:,0])\n",
    "    new_img[:,:,1]=(img[:,:,1]-np.mean(img[:,:,1]))/np.std(img[:,:,1])\n",
    "    new_img[:,:,2]=(img[:,:,2]-np.mean(img[:,:,2]))/np.std(img[:,:,2])\n",
    "    return new_img"
   ]
  },
  {
   "cell_type": "code",
   "execution_count": 5,
   "metadata": {},
   "outputs": [],
   "source": [
    "base_dir='F:/lvcai/guangdong_round2_train_20181011/单瑕疵图片'\n",
    "\n",
    "base_list=os.listdir(base_dir)\n",
    "sec_dir=[]\n",
    "for b in base_list:\n",
    "    sec_dir.append(base_dir+'/'+ str(b))"
   ]
  },
  {
   "cell_type": "code",
   "execution_count": 6,
   "metadata": {},
   "outputs": [
    {
     "data": {
      "text/plain": [
       "['F:/lvcai/guangdong_round2_train_20181011/单瑕疵图片/不导电',\n",
       " 'F:/lvcai/guangdong_round2_train_20181011/单瑕疵图片/喷流',\n",
       " 'F:/lvcai/guangdong_round2_train_20181011/单瑕疵图片/擦花',\n",
       " 'F:/lvcai/guangdong_round2_train_20181011/单瑕疵图片/杂色',\n",
       " 'F:/lvcai/guangdong_round2_train_20181011/单瑕疵图片/桔皮',\n",
       " 'F:/lvcai/guangdong_round2_train_20181011/单瑕疵图片/漆泡',\n",
       " 'F:/lvcai/guangdong_round2_train_20181011/单瑕疵图片/漏底',\n",
       " 'F:/lvcai/guangdong_round2_train_20181011/单瑕疵图片/脏点',\n",
       " 'F:/lvcai/guangdong_round2_train_20181011/单瑕疵图片/角位漏底',\n",
       " 'F:/lvcai/guangdong_round2_train_20181011/单瑕疵图片/起坑']"
      ]
     },
     "execution_count": 6,
     "metadata": {},
     "output_type": "execute_result"
    }
   ],
   "source": [
    "sec_dir"
   ]
  },
  {
   "cell_type": "code",
   "execution_count": 7,
   "metadata": {},
   "outputs": [],
   "source": [
    "label_dir='F:/lvcai/guangdong_round2_train_20181011/labelsq/单瑕疵图片'\n",
    "\n",
    "label_list=os.listdir(label_dir)\n",
    "label_comdir=[]\n",
    "for b in base_list:\n",
    "    label_comdir.append(label_dir+'/'+ str(b))"
   ]
  },
  {
   "cell_type": "code",
   "execution_count": 8,
   "metadata": {},
   "outputs": [
    {
     "data": {
      "text/plain": [
       "['F:/lvcai/guangdong_round2_train_20181011/labelsq/单瑕疵图片/不导电',\n",
       " 'F:/lvcai/guangdong_round2_train_20181011/labelsq/单瑕疵图片/喷流',\n",
       " 'F:/lvcai/guangdong_round2_train_20181011/labelsq/单瑕疵图片/擦花',\n",
       " 'F:/lvcai/guangdong_round2_train_20181011/labelsq/单瑕疵图片/杂色',\n",
       " 'F:/lvcai/guangdong_round2_train_20181011/labelsq/单瑕疵图片/桔皮',\n",
       " 'F:/lvcai/guangdong_round2_train_20181011/labelsq/单瑕疵图片/漆泡',\n",
       " 'F:/lvcai/guangdong_round2_train_20181011/labelsq/单瑕疵图片/漏底',\n",
       " 'F:/lvcai/guangdong_round2_train_20181011/labelsq/单瑕疵图片/脏点',\n",
       " 'F:/lvcai/guangdong_round2_train_20181011/labelsq/单瑕疵图片/角位漏底',\n",
       " 'F:/lvcai/guangdong_round2_train_20181011/labelsq/单瑕疵图片/起坑']"
      ]
     },
     "execution_count": 8,
     "metadata": {},
     "output_type": "execute_result"
    }
   ],
   "source": [
    "label_comdir"
   ]
  },
  {
   "cell_type": "code",
   "execution_count": 10,
   "metadata": {},
   "outputs": [
    {
     "name": "stdout",
     "output_type": "stream",
     "text": [
      "F:/lvcai/guangdong_round2_train_20181011/单瑕疵图片/不导电\n",
      "F:/lvcai/guangdong_round2_train_20181011/labelsq/单瑕疵图片/不导电\n",
      "F:/lvcai/guangdong_round2_train_20181011/单瑕疵图片/喷流\n",
      "F:/lvcai/guangdong_round2_train_20181011/labelsq/单瑕疵图片/喷流\n",
      "F:/lvcai/guangdong_round2_train_20181011/单瑕疵图片/擦花\n",
      "F:/lvcai/guangdong_round2_train_20181011/labelsq/单瑕疵图片/擦花\n",
      "F:/lvcai/guangdong_round2_train_20181011/单瑕疵图片/杂色\n",
      "F:/lvcai/guangdong_round2_train_20181011/labelsq/单瑕疵图片/杂色\n",
      "F:/lvcai/guangdong_round2_train_20181011/单瑕疵图片/桔皮\n",
      "F:/lvcai/guangdong_round2_train_20181011/labelsq/单瑕疵图片/桔皮\n",
      "F:/lvcai/guangdong_round2_train_20181011/单瑕疵图片/漆泡\n",
      "F:/lvcai/guangdong_round2_train_20181011/labelsq/单瑕疵图片/漆泡\n",
      "F:/lvcai/guangdong_round2_train_20181011/单瑕疵图片/漏底\n",
      "F:/lvcai/guangdong_round2_train_20181011/labelsq/单瑕疵图片/漏底\n",
      "F:/lvcai/guangdong_round2_train_20181011/单瑕疵图片/脏点\n",
      "F:/lvcai/guangdong_round2_train_20181011/labelsq/单瑕疵图片/脏点\n",
      "F:/lvcai/guangdong_round2_train_20181011/单瑕疵图片/角位漏底\n",
      "F:/lvcai/guangdong_round2_train_20181011/labelsq/单瑕疵图片/角位漏底\n",
      "F:/lvcai/guangdong_round2_train_20181011/单瑕疵图片/起坑\n",
      "F:/lvcai/guangdong_round2_train_20181011/labelsq/单瑕疵图片/起坑\n"
     ]
    }
   ],
   "source": [
    "num_class=len(sec_dir)\n",
    "width=480\n",
    "height=480\n",
    "#sec_dir[0] = 'F:/lvcai/guangdong_round2_train_20181011/单瑕疵图片/不导电' \n",
    "#label_comdir[0] = 'F:/lvcai/guangdong_round2_train_20181011/labelsq/单瑕疵图片/不导电'\n",
    "for i in range(num_class):\n",
    "    print(sec_dir[i])\n",
    "    #处理jpg\n",
    "    cdir=sec_dir[i] \n",
    "    img_list=os.listdir(cdir) #读取单一种类的图片列表\n",
    "    img_length= len(img_list)\n",
    "    \n",
    "    X_all=np.zeros( (int(img_length/2),width,height,3))# ,dtype='float64')  #(个数，长（宽width），宽(高height)，通道)\n",
    "    \n",
    "    for j in range(img_length):\n",
    "        if img_list[j][-3:]=='jpg':\n",
    "            img = cv_imread(cdir+'/'+img_list[j])\n",
    "            img = cv2.resize(img,(width,height))\n",
    "            #newimg=normalize_(img)\n",
    "            X_all[int(j/2),:,:,:]= img#newimg  #因为有json文件，所以编号要进行处理\n",
    "        \n",
    "    np.save('F:/lvcai/guangdong_round2_train_20181011/sqaurenpy_withoutnormalize/'+str(i)+'_X.npy',X_all)\n",
    "    \n",
    "    print(label_comdir[i])\n",
    "    #处理npy\n",
    "    \n",
    "    maskdir=label_comdir[i]\n",
    "    mask_list=os.listdir(maskdir)\n",
    "    mask_length = len(mask_list)  #多瑕疵这里不适用！！！！\n",
    "\n",
    "    Y_all=np.zeros( (int(img_length/2),width,height,10) ,dtype='int8')  #(个数，长（宽width），宽(高height)，通道)\n",
    "    \n",
    "    for j in range(mask_length):\n",
    "        single=np.load(maskdir+'/'+mask_list[j])\n",
    "        Y_all[j,:,:,:]=single\n",
    "        \n",
    "    np.save('F:/lvcai/guangdong_round2_train_20181011/sqaurenpy_withoutnormalize/'+str(i)+'_Y.npy',Y_all)\n",
    "    \n",
    "    "
   ]
  },
  {
   "cell_type": "code",
   "execution_count": null,
   "metadata": {},
   "outputs": [],
   "source": [
    "te"
   ]
  }
 ],
 "metadata": {
  "kernelspec": {
   "display_name": "Python 3",
   "language": "python",
   "name": "python3"
  },
  "language_info": {
   "codemirror_mode": {
    "name": "ipython",
    "version": 3
   },
   "file_extension": ".py",
   "mimetype": "text/x-python",
   "name": "python",
   "nbconvert_exporter": "python",
   "pygments_lexer": "ipython3",
   "version": "3.5.5"
  }
 },
 "nbformat": 4,
 "nbformat_minor": 2
}
