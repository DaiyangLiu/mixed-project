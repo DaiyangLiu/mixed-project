{
 "cells": [
  {
   "cell_type": "code",
   "execution_count": 1,
   "metadata": {},
   "outputs": [],
   "source": [
    "import os\n",
    "import numpy as np\n",
    "import matplotlib.pyplot as plt\n",
    "%matplotlib inline\n",
    "\n",
    "label_dir='F:/lvcai/guangdong_round2_train_20181011/label/多瑕疵图片/'"
   ]
  },
  {
   "cell_type": "code",
   "execution_count": 10,
   "metadata": {},
   "outputs": [],
   "source": [
    "label=os.listdir(label_dir)"
   ]
  },
  {
   "cell_type": "code",
   "execution_count": 11,
   "metadata": {
    "scrolled": true
   },
   "outputs": [
    {
     "data": {
      "text/plain": [
       "['不导电,脏点20180921085423对照样本_label.npy',\n",
       " '不导电,脏点20180921085507对照样本_label.npy',\n",
       " '不导电,脏点20180921085557对照样本_label.npy',\n",
       " '不导电,脏点20180921091747对照样本_label.npy',\n",
       " '不导电,脏点20180921093046对照样本_label.npy',\n",
       " '不导电,脏点20180921093508对照样本_label.npy',\n",
       " '不导电,脏点20180921105408对照样本_label.npy',\n",
       " '不导电,脏点20180921105418对照样本_label.npy',\n",
       " '不导电,脏点20180921153903对照样本_label.npy',\n",
       " '不导电,脏点20180921155221对照样本_label.npy',\n",
       " '不导电,脏点20180921160611对照样本_label.npy',\n",
       " '不导电,脏点20180928115046对照样本_label.npy',\n",
       " '不导电,脏点20180928115300对照样本_label.npy',\n",
       " '不导电,角位漏底20180928115506对照样本_label.npy',\n",
       " '不导电,角位漏底20180928115522对照样本_label.npy',\n",
       " '不导电,角位漏底20180928115538对照样本_label.npy',\n",
       " '不导电,角位漏底20180928115543对照样本_label.npy',\n",
       " '不导电,角位漏底20180928115548对照样本_label.npy',\n",
       " '不导电,角位漏底20180928115600对照样本_label.npy',\n",
       " '不导电,角位漏底20180928115619对照样本_label.npy',\n",
       " '不导电,角位漏底20180928115623对照样本_label.npy',\n",
       " '不导电,角位漏底20180928115635对照样本_label.npy',\n",
       " '不导电,角位漏底20180928115640对照样本_label.npy',\n",
       " '不导电,角位漏底20180928115649对照样本_label.npy',\n",
       " '不导电,角位漏底20180928115659对照样本_label.npy',\n",
       " '不导电,角位漏底20180928115718对照样本_label.npy',\n",
       " '不导电,角位漏底20180928115741对照样本_label.npy',\n",
       " '不导电,角位漏底20180928115746对照样本_label.npy',\n",
       " '不导电,角位漏底20180928115751对照样本_label.npy',\n",
       " '不导电,角位漏底20180928115757对照样本_label.npy',\n",
       " '喷流,漆泡20180920162541对照样本_label.npy',\n",
       " '喷流,漆泡20180920165605对照样本_label.npy',\n",
       " '喷流,脏点20180920151808对照样本_label.npy',\n",
       " '喷流,脏点20180920151908对照样本_label.npy',\n",
       " '喷流,脏点20180920152204对照样本_label.npy',\n",
       " '喷流,脏点20180920152710对照样本_label.npy',\n",
       " '喷流,脏点20180920152724对照样本_label.npy',\n",
       " '擦花,脏点20180911105355对照样本_label.npy',\n",
       " '擦花,脏点20180911110333对照样本_label.npy',\n",
       " '擦花,脏点20180911111025对照样本_label.npy',\n",
       " '擦花,脏点20180911140208对照样本_label.npy',\n",
       " '擦花,脏点20180911142325对照样本_label.npy',\n",
       " '擦花,脏点20180911143815对照样本_label.npy',\n",
       " '擦花,脏点20180912095907对照样本_label.npy',\n",
       " '杂色,不导电20180924144427对照样本_label.npy',\n",
       " '桔皮,脏点20180921095034对照样本_label.npy',\n",
       " '桔皮,脏点20180921095041对照样本_label.npy',\n",
       " '桔皮,脏点20180921095136对照样本_label.npy',\n",
       " '桔皮,脏点20180921095143对照样本_label.npy',\n",
       " '桔皮,脏点20180921095340对照样本_label.npy',\n",
       " '桔皮,脏点20180921095928对照样本_label.npy',\n",
       " '桔皮,脏点20180921095935对照样本_label.npy',\n",
       " '桔皮,脏点20180921095943对照样本_label.npy',\n",
       " '桔皮,脏点20180921095950对照样本_label.npy',\n",
       " '桔皮,脏点20180921100023对照样本_label.npy',\n",
       " '桔皮,脏点20180921100030对照样本_label.npy',\n",
       " '桔皮,脏点20180921100048对照样本_label.npy',\n",
       " '桔皮,脏点20180921100249对照样本_label.npy',\n",
       " '桔皮,脏点20180921100256对照样本_label.npy',\n",
       " '桔皮,脏点20180921100316对照样本_label.npy',\n",
       " '桔皮,脏点20180921100421对照样本_label.npy',\n",
       " '桔皮,脏点20180921100707对照样本_label.npy',\n",
       " '桔皮,脏点20180921100714对照样本_label.npy',\n",
       " '桔皮,脏点20180921100738对照样本_label.npy',\n",
       " '桔皮,脏点20180921100818对照样本_label.npy',\n",
       " '桔皮,脏点20180921102058对照样本_label.npy',\n",
       " '桔皮,脏点20180921102112对照样本_label.npy',\n",
       " '桔皮,脏点20180921102147对照样本_label.npy',\n",
       " '桔皮,脏点20180921102227对照样本_label.npy',\n",
       " '桔皮,脏点20180921102422对照样本_label.npy',\n",
       " '桔皮,脏点20180921102500对照样本_label.npy',\n",
       " '桔皮,脏点20180921102523对照样本_label.npy',\n",
       " '桔皮,脏点20180921102531对照样本_label.npy',\n",
       " '桔皮,脏点20180924090919对照样本_label.npy',\n",
       " '桔皮,脏点20180924091647对照样本_label.npy',\n",
       " '桔皮,脏点20180924091757对照样本_label.npy',\n",
       " '桔皮,脏点20180924092235对照样本_label.npy',\n",
       " '桔皮,脏点20180924092248对照样本_label.npy',\n",
       " '漆泡,脏点20180920111529对照样本_label.npy',\n",
       " '脏点,漏底20180918111716对照样本_label.npy',\n",
       " '脏点,漏底20180920094635对照样本_label.npy',\n",
       " '脏点,漏底20180929101310对照样本_label.npy',\n",
       " '脏点,漏底20180929101350对照样本_label.npy',\n",
       " '脏点,漏底20180929101640对照样本_label.npy',\n",
       " '脏点,漏底20180929101726对照样本_label.npy',\n",
       " '脏点,漏底20180929101744对照样本_label.npy',\n",
       " '脏点,漏底20180929101826对照样本_label.npy',\n",
       " '脏点,漏底20180929104510对照样本_label.npy',\n",
       " '脏点,漏底20180929104631对照样本_label.npy',\n",
       " '脏点,漏底20180929104653对照样本_label.npy',\n",
       " '脏点,漏底20180929104714对照样本_label.npy',\n",
       " '脏点,漏底20180929104742对照样本_label.npy',\n",
       " '脏点,漏底20180929104806对照样本_label.npy',\n",
       " '脏点,漏底20180929104816对照样本_label.npy',\n",
       " '脏点,漏底20180929104827对照样本_label.npy',\n",
       " '脏点,漏底20180929104933对照样本_label.npy',\n",
       " '脏点,漏底20180929104942对照样本_label.npy',\n",
       " '脏点,漏底20180929105003对照样本_label.npy',\n",
       " '脏点,漏底20180929105707对照样本_label.npy',\n",
       " '脏点,漏底20180929110030对照样本_label.npy',\n",
       " '脏点,漏底20180929110129对照样本_label.npy',\n",
       " '脏点,漏底20180929110215对照样本_label.npy',\n",
       " '脏点,角位漏底20180924100811对照样本_label.npy',\n",
       " '脏点,角位漏底20180924102252对照样本_label.npy',\n",
       " '脏点,角位漏底20180924102303对照样本_label.npy',\n",
       " '脏点,角位漏底20180924102440对照样本_label.npy',\n",
       " '脏点,角位漏底20180924102459对照样本_label.npy',\n",
       " '脏点,角位漏底20180924102559对照样本_label.npy',\n",
       " '脏点,角位漏底20180924102615对照样本_label.npy',\n",
       " '脏点,角位漏底20180924102727对照样本_label.npy',\n",
       " '脏点,角位漏底20180928145107对照样本_label.npy',\n",
       " '脏点,角位漏底20180928145137对照样本_label.npy',\n",
       " '脏点,角位漏底20180928145206对照样本_label.npy',\n",
       " '脏点,角位漏底20180928145251对照样本_label.npy',\n",
       " '脏点,角位漏底20180928145301对照样本_label.npy',\n",
       " '脏点,角位漏底20180928145328对照样本_label.npy',\n",
       " '脏点,角位漏底20180928145354对照样本_label.npy',\n",
       " '脏点,角位漏底20180928145425对照样本_label.npy',\n",
       " '脏点,角位漏底20180928145525对照样本_label.npy',\n",
       " '脏点,角位漏底20180928145711对照样本_label.npy',\n",
       " '脏点,角位漏底20180928145927对照样本_label.npy',\n",
       " '脏点,角位漏底20180928150007对照样本_label.npy',\n",
       " '脏点,角位漏底20180928150855对照样本_label.npy',\n",
       " '脏点,角位漏底20180928151141对照样本_label.npy',\n",
       " '脏点,角位漏底20180928151217对照样本_label.npy',\n",
       " '脏点,角位漏底20180928151257对照样本_label.npy',\n",
       " '脏点,角位漏底20180928151539对照样本_label.npy',\n",
       " '脏点,角位漏底20180928151546对照样本_label.npy',\n",
       " '脏点,角位漏底20180928151614对照样本_label.npy',\n",
       " '脏点,角位漏底20180928151935对照样本_label.npy',\n",
       " '脏点,角位漏底20180928151946对照样本_label.npy',\n",
       " '脏点,角位漏底20180928152005对照样本_label.npy',\n",
       " '脏点,角位漏底20180928152121对照样本_label.npy',\n",
       " '脏点,角位漏底20180928152221对照样本_label.npy',\n",
       " '脏点,角位漏底20180928152229对照样本_label.npy',\n",
       " '脏点,角位漏底20180928152736对照样本_label.npy',\n",
       " '脏点,角位漏底20180928152849对照样本_label.npy',\n",
       " '脏点,角位漏底20180928153050对照样本_label.npy',\n",
       " '脏点,角位漏底20180928154114对照样本_label.npy',\n",
       " '脏点,角位漏底20180928154850对照样本_label.npy',\n",
       " '脏点,角位漏底20180928155001对照样本_label.npy',\n",
       " '脏点,角位漏底20180928155156对照样本_label.npy',\n",
       " '脏点,角位漏底20180928155205对照样本_label.npy',\n",
       " '脏点,角位漏底20180928155335对照样本_label.npy',\n",
       " '脏点,角位漏底20180928155406对照样本_label.npy',\n",
       " '脏点,角位漏底20180928155604对照样本_label.npy',\n",
       " '脏点,角位漏底20180928160119对照样本_label.npy',\n",
       " '脏点,角位漏底20180928160253对照样本_label.npy',\n",
       " '脏点,角位漏底20180928160302对照样本_label.npy',\n",
       " '脏点,角位漏底20180928161136对照样本_label.npy',\n",
       " '脏点,角位漏底20180928161154对照样本_label.npy',\n",
       " '脏点,角位漏底20180928161321对照样本_label.npy',\n",
       " '脏点,角位漏底20180928161346对照样本_label.npy',\n",
       " '脏点,角位漏底20180928161616对照样本_label.npy',\n",
       " '脏点,角位漏底20180928161648对照样本_label.npy',\n",
       " '脏点,角位漏底20180928161723对照样本_label.npy',\n",
       " '脏点,角位漏底20180928161734对照样本_label.npy',\n",
       " '脏点,角位漏底20180928161759对照样本_label.npy',\n",
       " '脏点,角位漏底20180928162156对照样本_label.npy',\n",
       " '脏点,角位漏底20180928162228对照样本_label.npy',\n",
       " '脏点,角位漏底20180928162453对照样本_label.npy',\n",
       " '脏点,角位漏底20180928162652对照样本_label.npy',\n",
       " '脏点,角位漏底20180928162708对照样本_label.npy',\n",
       " '脏点,角位漏底20180928163010对照样本_label.npy',\n",
       " '脏点,角位漏底20180928163329对照样本_label.npy',\n",
       " '脏点,角位漏底20180928163426对照样本_label.npy',\n",
       " '脏点,角位漏底20180928163443对照样本_label.npy',\n",
       " '脏点,角位漏底20180928163456对照样本_label.npy',\n",
       " '脏点,角位漏底20180928163519对照样本_label.npy',\n",
       " '脏点,角位漏底20180928163743对照样本_label.npy',\n",
       " '脏点,角位漏底20180928163825对照样本_label.npy',\n",
       " '脏点,角位漏底20180928163852对照样本_label.npy',\n",
       " '脏点,角位漏底20180928163908对照样本_label.npy',\n",
       " '脏点,角位漏底20180928164023对照样本_label.npy',\n",
       " '脏点,角位漏底20180928164316对照样本_label.npy',\n",
       " '脏点,角位漏底20180928165154对照样本_label.npy',\n",
       " '脏点,角位漏底20180928165305对照样本_label.npy',\n",
       " '脏点,角位漏底20180928165350对照样本_label.npy',\n",
       " '脏点,角位漏底20180928165508对照样本_label.npy',\n",
       " '脏点,角位漏底20180928165855对照样本_label.npy',\n",
       " '脏点,角位漏底20180928165942对照样本_label.npy',\n",
       " '脏点,角位漏底20180928165951对照样本_label.npy',\n",
       " '脏点,角位漏底20180928170006对照样本_label.npy',\n",
       " '脏点,角位漏底20180928170016对照样本_label.npy',\n",
       " '脏点,角位漏底20180928170151对照样本_label.npy',\n",
       " '脏点,角位漏底20180928170330对照样本_label.npy',\n",
       " '脏点,角位漏底20180928171246对照样本_label.npy',\n",
       " '脏点,角位漏底20180928171255对照样本_label.npy',\n",
       " '脏点,角位漏底20180928171346对照样本_label.npy',\n",
       " '脏点,角位漏底20180928171404对照样本_label.npy',\n",
       " '脏点,角位漏底20180928171444对照样本_label.npy',\n",
       " '脏点,角位漏底20180928171513对照样本_label.npy',\n",
       " '脏点,角位漏底20180928172657对照样本_label.npy',\n",
       " '脏点,角位漏底20180928172827对照样本_label.npy',\n",
       " '起坑,脏点20180928110438对照样本_label.npy',\n",
       " '起坑,脏点20180928140534对照样本_label.npy',\n",
       " '起坑,脏点20180928140602对照样本_label.npy',\n",
       " '起坑,脏点20180928140635对照样本_label.npy',\n",
       " '起坑,脏点20180928190854对照样本_label.npy',\n",
       " '起坑,脏点20180928190908对照样本_label.npy',\n",
       " '起坑,脏点20180928190955对照样本_label.npy',\n",
       " '起坑,脏点20180928191039对照样本_label.npy',\n",
       " '起坑,脏点20180928191140对照样本_label.npy',\n",
       " '起坑,脏点20180928191157对照样本_label.npy',\n",
       " '起坑,脏点20180928191225对照样本_label.npy',\n",
       " '起坑,脏点20180928191504对照样本_label.npy',\n",
       " '起坑,脏点20180928191543对照样本_label.npy',\n",
       " '起坑,脏点20180928191634对照样本_label.npy',\n",
       " '起坑,脏点20180928191657对照样本_label.npy',\n",
       " '起坑,脏点20180928191815对照样本_label.npy',\n",
       " '起坑,脏点20180928192044对照样本_label.npy',\n",
       " '起坑,脏点20180928192055对照样本_label.npy',\n",
       " '起坑,脏点20180928192119对照样本_label.npy',\n",
       " '起坑,脏点20180928192250对照样本_label.npy',\n",
       " '起坑,脏点20180928192309对照样本_label.npy',\n",
       " '起坑,脏点20180928192340对照样本_label.npy',\n",
       " '起坑,脏点20180928192612对照样本_label.npy',\n",
       " '起坑,脏点20180928192638对照样本_label.npy',\n",
       " '起坑,脏点20180929110931对照样本_label.npy',\n",
       " '起坑,脏点20180929110943对照样本_label.npy',\n",
       " '起坑,脏点20180929111014对照样本_label.npy',\n",
       " '起坑,脏点20180929111024对照样本_label.npy',\n",
       " '起坑,脏点20180929111044对照样本_label.npy',\n",
       " '起坑,脏点20180929113708对照样本_label.npy',\n",
       " '起坑,脏点20180929114057对照样本_label.npy',\n",
       " '起坑,脏点20180929114928对照样本_label.npy',\n",
       " '起坑,脏点20180929114934对照样本_label.npy',\n",
       " '起坑,脏点20180929114943对照样本_label.npy',\n",
       " '起坑,脏点20180929120303对照样本_label.npy']"
      ]
     },
     "execution_count": 11,
     "metadata": {},
     "output_type": "execute_result"
    }
   ],
   "source": [
    "label"
   ]
  },
  {
   "cell_type": "code",
   "execution_count": 12,
   "metadata": {},
   "outputs": [
    {
     "data": {
      "text/plain": [
       "'不导电,脏点20180921085423对照样本_label.npy'"
      ]
     },
     "execution_count": 12,
     "metadata": {},
     "output_type": "execute_result"
    }
   ],
   "source": [
    "label[0]"
   ]
  },
  {
   "cell_type": "code",
   "execution_count": 13,
   "metadata": {},
   "outputs": [],
   "source": [
    "a=np.load(label_dir+label[0])"
   ]
  },
  {
   "cell_type": "code",
   "execution_count": 14,
   "metadata": {},
   "outputs": [
    {
     "data": {
      "text/plain": [
       "(480, 640, 10)"
      ]
     },
     "execution_count": 14,
     "metadata": {},
     "output_type": "execute_result"
    }
   ],
   "source": [
    "a.shape"
   ]
  },
  {
   "cell_type": "code",
   "execution_count": 15,
   "metadata": {},
   "outputs": [
    {
     "data": {
      "text/plain": [
       "array([32,  0,  0,  0,  0,  0,  0,  0,  0, 32], dtype=int8)"
      ]
     },
     "execution_count": 15,
     "metadata": {},
     "output_type": "execute_result"
    }
   ],
   "source": [
    "sum(sum(a))"
   ]
  },
  {
   "cell_type": "code",
   "execution_count": 16,
   "metadata": {},
   "outputs": [
    {
     "data": {
      "image/png": "[encoded data removed]",
      "text/plain": [
       "<Figure size 1600x500 with 10 Axes>"
      ]
     },
     "metadata": {},
     "output_type": "display_data"
    }
   ],
   "source": [
    "plt.figure(figsize=(16,5),dpi=100) \n",
    "for i in range(10):\n",
    "    plt.subplot(2,5,i+1)\n",
    "    plt.imshow(a[:,:,i])"
   ]
  },
  {
   "cell_type": "code",
   "execution_count": null,
   "metadata": {},
   "outputs": [],
   "source": []
  }
 ],
 "metadata": {
  "kernelspec": {
   "display_name": "Python 3",
   "language": "python",
   "name": "python3"
  },
  "language_info": {
   "codemirror_mode": {
    "name": "ipython",
    "version": 3
   },
   "file_extension": ".py",
   "mimetype": "text/x-python",
   "name": "python",
   "nbconvert_exporter": "python",
   "pygments_lexer": "ipython3",
   "version": "3.5.5"
  }
 },
 "nbformat": 4,
 "nbformat_minor": 2
}
