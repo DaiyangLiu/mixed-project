{
 "cells": [
  {
   "cell_type": "code",
   "execution_count": 11,
   "metadata": {},
   "outputs": [],
   "source": [
    "import numpy as np\n",
    "import pandas as pd\n",
    "import cv2\n",
    "import matplotlib.pyplot as plt\n",
    "%matplotlib inline"
   ]
  },
  {
   "cell_type": "code",
   "execution_count": 3,
   "metadata": {},
   "outputs": [],
   "source": [
    "df = pd.read_csv('json_dan.csv')"
   ]
  },
  {
   "cell_type": "code",
   "execution_count": 4,
   "metadata": {
    "scrolled": true
   },
   "outputs": [
    {
     "data": {
      "text/html": [
       "<div>\n",
       "<style>\n",
       "    .dataframe thead tr:only-child th {\n",
       "        text-align: right;\n",
       "    }\n",
       "\n",
       "    .dataframe thead th {\n",
       "        text-align: left;\n",
       "    }\n",
       "\n",
       "    .dataframe tbody tr th {\n",
       "        vertical-align: top;\n",
       "    }\n",
       "</style>\n",
       "<table border=\"1\" class=\"dataframe\">\n",
       "  <thead>\n",
       "    <tr style=\"text-align: right;\">\n",
       "      <th></th>\n",
       "      <th>file_name</th>\n",
       "      <th>label</th>\n",
       "      <th>x</th>\n",
       "      <th>y</th>\n",
       "      <th>w</th>\n",
       "      <th>h</th>\n",
       "    </tr>\n",
       "  </thead>\n",
       "  <tbody>\n",
       "    <tr>\n",
       "      <th>0</th>\n",
       "      <td>单瑕疵图片/不导电/不导电20180830131536对照样本.jpg</td>\n",
       "      <td>0</td>\n",
       "      <td>0</td>\n",
       "      <td>995</td>\n",
       "      <td>2560</td>\n",
       "      <td>414</td>\n",
       "    </tr>\n",
       "    <tr>\n",
       "      <th>1</th>\n",
       "      <td>单瑕疵图片/不导电/不导电20180830131551对照样本.jpg</td>\n",
       "      <td>0</td>\n",
       "      <td>0</td>\n",
       "      <td>1036</td>\n",
       "      <td>2560</td>\n",
       "      <td>447</td>\n",
       "    </tr>\n",
       "    <tr>\n",
       "      <th>2</th>\n",
       "      <td>单瑕疵图片/不导电/不导电20180830131628对照样本.jpg</td>\n",
       "      <td>0</td>\n",
       "      <td>0</td>\n",
       "      <td>979</td>\n",
       "      <td>2560</td>\n",
       "      <td>426</td>\n",
       "    </tr>\n",
       "    <tr>\n",
       "      <th>3</th>\n",
       "      <td>单瑕疵图片/不导电/不导电20180830131827对照样本.jpg</td>\n",
       "      <td>0</td>\n",
       "      <td>0</td>\n",
       "      <td>121</td>\n",
       "      <td>2557</td>\n",
       "      <td>581</td>\n",
       "    </tr>\n",
       "    <tr>\n",
       "      <th>4</th>\n",
       "      <td>单瑕疵图片/不导电/不导电20180830134330对照样本.jpg</td>\n",
       "      <td>0</td>\n",
       "      <td>961</td>\n",
       "      <td>463</td>\n",
       "      <td>1175</td>\n",
       "      <td>271</td>\n",
       "    </tr>\n",
       "    <tr>\n",
       "      <th>5</th>\n",
       "      <td>单瑕疵图片/不导电/不导电20180830134402对照样本.jpg</td>\n",
       "      <td>0</td>\n",
       "      <td>728</td>\n",
       "      <td>314</td>\n",
       "      <td>235</td>\n",
       "      <td>296</td>\n",
       "    </tr>\n",
       "    <tr>\n",
       "      <th>6</th>\n",
       "      <td>单瑕疵图片/不导电/不导电20180830134743对照样本.jpg</td>\n",
       "      <td>0</td>\n",
       "      <td>536</td>\n",
       "      <td>0</td>\n",
       "      <td>306</td>\n",
       "      <td>326</td>\n",
       "    </tr>\n",
       "    <tr>\n",
       "      <th>7</th>\n",
       "      <td>单瑕疵图片/不导电/不导电20180830135013对照样本.jpg</td>\n",
       "      <td>0</td>\n",
       "      <td>0</td>\n",
       "      <td>754</td>\n",
       "      <td>2560</td>\n",
       "      <td>637</td>\n",
       "    </tr>\n",
       "    <tr>\n",
       "      <th>8</th>\n",
       "      <td>单瑕疵图片/不导电/不导电20180830135838对照样本.jpg</td>\n",
       "      <td>0</td>\n",
       "      <td>0</td>\n",
       "      <td>760</td>\n",
       "      <td>2560</td>\n",
       "      <td>435</td>\n",
       "    </tr>\n",
       "    <tr>\n",
       "      <th>9</th>\n",
       "      <td>单瑕疵图片/不导电/不导电20180830140724对照样本.jpg</td>\n",
       "      <td>0</td>\n",
       "      <td>146</td>\n",
       "      <td>169</td>\n",
       "      <td>763</td>\n",
       "      <td>320</td>\n",
       "    </tr>\n",
       "    <tr>\n",
       "      <th>10</th>\n",
       "      <td>单瑕疵图片/不导电/不导电20180830140809对照样本.jpg</td>\n",
       "      <td>0</td>\n",
       "      <td>536</td>\n",
       "      <td>376</td>\n",
       "      <td>333</td>\n",
       "      <td>282</td>\n",
       "    </tr>\n",
       "    <tr>\n",
       "      <th>11</th>\n",
       "      <td>单瑕疵图片/不导电/不导电20180830142508对照样本.jpg</td>\n",
       "      <td>0</td>\n",
       "      <td>0</td>\n",
       "      <td>517</td>\n",
       "      <td>2560</td>\n",
       "      <td>182</td>\n",
       "    </tr>\n",
       "    <tr>\n",
       "      <th>12</th>\n",
       "      <td>单瑕疵图片/不导电/不导电20180830155325对照样本.jpg</td>\n",
       "      <td>0</td>\n",
       "      <td>0</td>\n",
       "      <td>1230</td>\n",
       "      <td>2560</td>\n",
       "      <td>379</td>\n",
       "    </tr>\n",
       "    <tr>\n",
       "      <th>13</th>\n",
       "      <td>单瑕疵图片/不导电/不导电20180831100602对照样本.jpg</td>\n",
       "      <td>0</td>\n",
       "      <td>0</td>\n",
       "      <td>1281</td>\n",
       "      <td>2560</td>\n",
       "      <td>377</td>\n",
       "    </tr>\n",
       "    <tr>\n",
       "      <th>14</th>\n",
       "      <td>单瑕疵图片/不导电/不导电20180831100625对照样本.jpg</td>\n",
       "      <td>0</td>\n",
       "      <td>0</td>\n",
       "      <td>1297</td>\n",
       "      <td>2560</td>\n",
       "      <td>394</td>\n",
       "    </tr>\n",
       "    <tr>\n",
       "      <th>15</th>\n",
       "      <td>单瑕疵图片/不导电/不导电20180831101421对照样本.jpg</td>\n",
       "      <td>0</td>\n",
       "      <td>0</td>\n",
       "      <td>977</td>\n",
       "      <td>2560</td>\n",
       "      <td>426</td>\n",
       "    </tr>\n",
       "    <tr>\n",
       "      <th>16</th>\n",
       "      <td>单瑕疵图片/不导电/不导电20180831101630对照样本.jpg</td>\n",
       "      <td>0</td>\n",
       "      <td>0</td>\n",
       "      <td>973</td>\n",
       "      <td>2560</td>\n",
       "      <td>383</td>\n",
       "    </tr>\n",
       "    <tr>\n",
       "      <th>17</th>\n",
       "      <td>单瑕疵图片/不导电/不导电20180831101642对照样本.jpg</td>\n",
       "      <td>0</td>\n",
       "      <td>0</td>\n",
       "      <td>1103</td>\n",
       "      <td>2560</td>\n",
       "      <td>343</td>\n",
       "    </tr>\n",
       "    <tr>\n",
       "      <th>18</th>\n",
       "      <td>单瑕疵图片/不导电/不导电20180831101753对照样本.jpg</td>\n",
       "      <td>0</td>\n",
       "      <td>0</td>\n",
       "      <td>1331</td>\n",
       "      <td>2560</td>\n",
       "      <td>327</td>\n",
       "    </tr>\n",
       "    <tr>\n",
       "      <th>19</th>\n",
       "      <td>单瑕疵图片/不导电/不导电20180831101841对照样本.jpg</td>\n",
       "      <td>0</td>\n",
       "      <td>0</td>\n",
       "      <td>1115</td>\n",
       "      <td>2560</td>\n",
       "      <td>325</td>\n",
       "    </tr>\n",
       "    <tr>\n",
       "      <th>20</th>\n",
       "      <td>单瑕疵图片/不导电/不导电20180831102055对照样本.jpg</td>\n",
       "      <td>0</td>\n",
       "      <td>0</td>\n",
       "      <td>707</td>\n",
       "      <td>2560</td>\n",
       "      <td>665</td>\n",
       "    </tr>\n",
       "    <tr>\n",
       "      <th>21</th>\n",
       "      <td>单瑕疵图片/不导电/不导电20180831102726对照样本.jpg</td>\n",
       "      <td>0</td>\n",
       "      <td>0</td>\n",
       "      <td>658</td>\n",
       "      <td>2560</td>\n",
       "      <td>929</td>\n",
       "    </tr>\n",
       "    <tr>\n",
       "      <th>22</th>\n",
       "      <td>单瑕疵图片/不导电/不导电20180831102759对照样本.jpg</td>\n",
       "      <td>0</td>\n",
       "      <td>0</td>\n",
       "      <td>858</td>\n",
       "      <td>2560</td>\n",
       "      <td>937</td>\n",
       "    </tr>\n",
       "    <tr>\n",
       "      <th>23</th>\n",
       "      <td>单瑕疵图片/不导电/不导电20180831102813对照样本.jpg</td>\n",
       "      <td>0</td>\n",
       "      <td>0</td>\n",
       "      <td>981</td>\n",
       "      <td>2560</td>\n",
       "      <td>936</td>\n",
       "    </tr>\n",
       "    <tr>\n",
       "      <th>24</th>\n",
       "      <td>单瑕疵图片/不导电/不导电20180831102827对照样本.jpg</td>\n",
       "      <td>0</td>\n",
       "      <td>0</td>\n",
       "      <td>1146</td>\n",
       "      <td>2560</td>\n",
       "      <td>774</td>\n",
       "    </tr>\n",
       "    <tr>\n",
       "      <th>25</th>\n",
       "      <td>单瑕疵图片/不导电/不导电20180831102843对照样本.jpg</td>\n",
       "      <td>0</td>\n",
       "      <td>0</td>\n",
       "      <td>824</td>\n",
       "      <td>2560</td>\n",
       "      <td>887</td>\n",
       "    </tr>\n",
       "    <tr>\n",
       "      <th>26</th>\n",
       "      <td>单瑕疵图片/不导电/不导电20180831102911对照样本.jpg</td>\n",
       "      <td>0</td>\n",
       "      <td>0</td>\n",
       "      <td>940</td>\n",
       "      <td>2560</td>\n",
       "      <td>902</td>\n",
       "    </tr>\n",
       "    <tr>\n",
       "      <th>27</th>\n",
       "      <td>单瑕疵图片/不导电/不导电20180831102927对照样本.jpg</td>\n",
       "      <td>0</td>\n",
       "      <td>0</td>\n",
       "      <td>862</td>\n",
       "      <td>2560</td>\n",
       "      <td>884</td>\n",
       "    </tr>\n",
       "    <tr>\n",
       "      <th>28</th>\n",
       "      <td>单瑕疵图片/不导电/不导电20180831102939对照样本.jpg</td>\n",
       "      <td>0</td>\n",
       "      <td>0</td>\n",
       "      <td>977</td>\n",
       "      <td>2560</td>\n",
       "      <td>889</td>\n",
       "    </tr>\n",
       "    <tr>\n",
       "      <th>29</th>\n",
       "      <td>单瑕疵图片/不导电/不导电20180831103739对照样本.jpg</td>\n",
       "      <td>0</td>\n",
       "      <td>0</td>\n",
       "      <td>1128</td>\n",
       "      <td>2560</td>\n",
       "      <td>722</td>\n",
       "    </tr>\n",
       "    <tr>\n",
       "      <th>...</th>\n",
       "      <td>...</td>\n",
       "      <td>...</td>\n",
       "      <td>...</td>\n",
       "      <td>...</td>\n",
       "      <td>...</td>\n",
       "      <td>...</td>\n",
       "    </tr>\n",
       "    <tr>\n",
       "      <th>2746</th>\n",
       "      <td>单瑕疵图片/起坑/起坑20180929112130对照样本.jpg</td>\n",
       "      <td>7</td>\n",
       "      <td>0</td>\n",
       "      <td>1075</td>\n",
       "      <td>2560</td>\n",
       "      <td>216</td>\n",
       "    </tr>\n",
       "    <tr>\n",
       "      <th>2747</th>\n",
       "      <td>单瑕疵图片/起坑/起坑20180929113243对照样本.jpg</td>\n",
       "      <td>7</td>\n",
       "      <td>0</td>\n",
       "      <td>753</td>\n",
       "      <td>2560</td>\n",
       "      <td>105</td>\n",
       "    </tr>\n",
       "    <tr>\n",
       "      <th>2748</th>\n",
       "      <td>单瑕疵图片/起坑/起坑20180929113326对照样本.jpg</td>\n",
       "      <td>7</td>\n",
       "      <td>0</td>\n",
       "      <td>793</td>\n",
       "      <td>2560</td>\n",
       "      <td>106</td>\n",
       "    </tr>\n",
       "    <tr>\n",
       "      <th>2749</th>\n",
       "      <td>单瑕疵图片/起坑/起坑20180929113333对照样本.jpg</td>\n",
       "      <td>7</td>\n",
       "      <td>0</td>\n",
       "      <td>720</td>\n",
       "      <td>2560</td>\n",
       "      <td>102</td>\n",
       "    </tr>\n",
       "    <tr>\n",
       "      <th>2750</th>\n",
       "      <td>单瑕疵图片/起坑/起坑20180929113355对照样本.jpg</td>\n",
       "      <td>7</td>\n",
       "      <td>0</td>\n",
       "      <td>870</td>\n",
       "      <td>2560</td>\n",
       "      <td>113</td>\n",
       "    </tr>\n",
       "    <tr>\n",
       "      <th>2751</th>\n",
       "      <td>单瑕疵图片/起坑/起坑20180929113453对照样本.jpg</td>\n",
       "      <td>7</td>\n",
       "      <td>0</td>\n",
       "      <td>872</td>\n",
       "      <td>2560</td>\n",
       "      <td>110</td>\n",
       "    </tr>\n",
       "    <tr>\n",
       "      <th>2752</th>\n",
       "      <td>单瑕疵图片/起坑/起坑20180929113556对照样本.jpg</td>\n",
       "      <td>7</td>\n",
       "      <td>0</td>\n",
       "      <td>457</td>\n",
       "      <td>2560</td>\n",
       "      <td>87</td>\n",
       "    </tr>\n",
       "    <tr>\n",
       "      <th>2753</th>\n",
       "      <td>单瑕疵图片/起坑/起坑20180929113606对照样本.jpg</td>\n",
       "      <td>7</td>\n",
       "      <td>0</td>\n",
       "      <td>793</td>\n",
       "      <td>2560</td>\n",
       "      <td>94</td>\n",
       "    </tr>\n",
       "    <tr>\n",
       "      <th>2754</th>\n",
       "      <td>单瑕疵图片/起坑/起坑20180929113620对照样本.jpg</td>\n",
       "      <td>7</td>\n",
       "      <td>0</td>\n",
       "      <td>779</td>\n",
       "      <td>2560</td>\n",
       "      <td>75</td>\n",
       "    </tr>\n",
       "    <tr>\n",
       "      <th>2755</th>\n",
       "      <td>单瑕疵图片/起坑/起坑20180929113625对照样本.jpg</td>\n",
       "      <td>7</td>\n",
       "      <td>0</td>\n",
       "      <td>815</td>\n",
       "      <td>2560</td>\n",
       "      <td>65</td>\n",
       "    </tr>\n",
       "    <tr>\n",
       "      <th>2756</th>\n",
       "      <td>单瑕疵图片/起坑/起坑20180929113656对照样本.jpg</td>\n",
       "      <td>7</td>\n",
       "      <td>0</td>\n",
       "      <td>750</td>\n",
       "      <td>2560</td>\n",
       "      <td>47</td>\n",
       "    </tr>\n",
       "    <tr>\n",
       "      <th>2757</th>\n",
       "      <td>单瑕疵图片/起坑/起坑20180929113720对照样本.jpg</td>\n",
       "      <td>7</td>\n",
       "      <td>0</td>\n",
       "      <td>915</td>\n",
       "      <td>2560</td>\n",
       "      <td>43</td>\n",
       "    </tr>\n",
       "    <tr>\n",
       "      <th>2758</th>\n",
       "      <td>单瑕疵图片/起坑/起坑20180929113851对照样本.jpg</td>\n",
       "      <td>7</td>\n",
       "      <td>0</td>\n",
       "      <td>1454</td>\n",
       "      <td>2560</td>\n",
       "      <td>64</td>\n",
       "    </tr>\n",
       "    <tr>\n",
       "      <th>2759</th>\n",
       "      <td>单瑕疵图片/起坑/起坑20180929113856对照样本.jpg</td>\n",
       "      <td>7</td>\n",
       "      <td>0</td>\n",
       "      <td>1003</td>\n",
       "      <td>2560</td>\n",
       "      <td>43</td>\n",
       "    </tr>\n",
       "    <tr>\n",
       "      <th>2760</th>\n",
       "      <td>单瑕疵图片/起坑/起坑20180929113903对照样本.jpg</td>\n",
       "      <td>7</td>\n",
       "      <td>0</td>\n",
       "      <td>1105</td>\n",
       "      <td>2560</td>\n",
       "      <td>47</td>\n",
       "    </tr>\n",
       "    <tr>\n",
       "      <th>2761</th>\n",
       "      <td>单瑕疵图片/起坑/起坑20180929114025对照样本.jpg</td>\n",
       "      <td>7</td>\n",
       "      <td>0</td>\n",
       "      <td>858</td>\n",
       "      <td>2560</td>\n",
       "      <td>100</td>\n",
       "    </tr>\n",
       "    <tr>\n",
       "      <th>2762</th>\n",
       "      <td>单瑕疵图片/起坑/起坑20180929114032对照样本.jpg</td>\n",
       "      <td>7</td>\n",
       "      <td>0</td>\n",
       "      <td>822</td>\n",
       "      <td>2560</td>\n",
       "      <td>89</td>\n",
       "    </tr>\n",
       "    <tr>\n",
       "      <th>2763</th>\n",
       "      <td>单瑕疵图片/起坑/起坑20180929114052对照样本.jpg</td>\n",
       "      <td>7</td>\n",
       "      <td>0</td>\n",
       "      <td>774</td>\n",
       "      <td>2560</td>\n",
       "      <td>85</td>\n",
       "    </tr>\n",
       "    <tr>\n",
       "      <th>2764</th>\n",
       "      <td>单瑕疵图片/起坑/起坑20180929114104对照样本.jpg</td>\n",
       "      <td>7</td>\n",
       "      <td>0</td>\n",
       "      <td>617</td>\n",
       "      <td>2560</td>\n",
       "      <td>80</td>\n",
       "    </tr>\n",
       "    <tr>\n",
       "      <th>2765</th>\n",
       "      <td>单瑕疵图片/起坑/起坑20180929114116对照样本.jpg</td>\n",
       "      <td>7</td>\n",
       "      <td>0</td>\n",
       "      <td>613</td>\n",
       "      <td>2560</td>\n",
       "      <td>70</td>\n",
       "    </tr>\n",
       "    <tr>\n",
       "      <th>2766</th>\n",
       "      <td>单瑕疵图片/起坑/起坑20180929114147对照样本.jpg</td>\n",
       "      <td>7</td>\n",
       "      <td>0</td>\n",
       "      <td>930</td>\n",
       "      <td>2560</td>\n",
       "      <td>94</td>\n",
       "    </tr>\n",
       "    <tr>\n",
       "      <th>2767</th>\n",
       "      <td>单瑕疵图片/起坑/起坑20180929114157对照样本.jpg</td>\n",
       "      <td>7</td>\n",
       "      <td>0</td>\n",
       "      <td>638</td>\n",
       "      <td>2560</td>\n",
       "      <td>71</td>\n",
       "    </tr>\n",
       "    <tr>\n",
       "      <th>2768</th>\n",
       "      <td>单瑕疵图片/起坑/起坑20180929114836对照样本.jpg</td>\n",
       "      <td>7</td>\n",
       "      <td>0</td>\n",
       "      <td>824</td>\n",
       "      <td>2560</td>\n",
       "      <td>81</td>\n",
       "    </tr>\n",
       "    <tr>\n",
       "      <th>2769</th>\n",
       "      <td>单瑕疵图片/起坑/起坑20180929115001对照样本.jpg</td>\n",
       "      <td>7</td>\n",
       "      <td>0</td>\n",
       "      <td>852</td>\n",
       "      <td>2560</td>\n",
       "      <td>61</td>\n",
       "    </tr>\n",
       "    <tr>\n",
       "      <th>2770</th>\n",
       "      <td>单瑕疵图片/起坑/起坑20180929115023对照样本.jpg</td>\n",
       "      <td>7</td>\n",
       "      <td>0</td>\n",
       "      <td>826</td>\n",
       "      <td>2560</td>\n",
       "      <td>40</td>\n",
       "    </tr>\n",
       "    <tr>\n",
       "      <th>2771</th>\n",
       "      <td>单瑕疵图片/起坑/起坑20180929115042对照样本.jpg</td>\n",
       "      <td>7</td>\n",
       "      <td>0</td>\n",
       "      <td>1209</td>\n",
       "      <td>2560</td>\n",
       "      <td>45</td>\n",
       "    </tr>\n",
       "    <tr>\n",
       "      <th>2772</th>\n",
       "      <td>单瑕疵图片/起坑/起坑20180929120415对照样本.jpg</td>\n",
       "      <td>7</td>\n",
       "      <td>0</td>\n",
       "      <td>1101</td>\n",
       "      <td>2560</td>\n",
       "      <td>104</td>\n",
       "    </tr>\n",
       "    <tr>\n",
       "      <th>2773</th>\n",
       "      <td>单瑕疵图片/起坑/起坑20180929120433对照样本.jpg</td>\n",
       "      <td>7</td>\n",
       "      <td>0</td>\n",
       "      <td>1036</td>\n",
       "      <td>2560</td>\n",
       "      <td>73</td>\n",
       "    </tr>\n",
       "    <tr>\n",
       "      <th>2774</th>\n",
       "      <td>单瑕疵图片/起坑/起坑20180929120440对照样本.jpg</td>\n",
       "      <td>7</td>\n",
       "      <td>0</td>\n",
       "      <td>1217</td>\n",
       "      <td>2560</td>\n",
       "      <td>96</td>\n",
       "    </tr>\n",
       "    <tr>\n",
       "      <th>2775</th>\n",
       "      <td>单瑕疵图片/起坑/起坑20180929120454对照样本.jpg</td>\n",
       "      <td>7</td>\n",
       "      <td>0</td>\n",
       "      <td>1209</td>\n",
       "      <td>2560</td>\n",
       "      <td>72</td>\n",
       "    </tr>\n",
       "  </tbody>\n",
       "</table>\n",
       "<p>2776 rows × 6 columns</p>\n",
       "</div>"
      ],
      "text/plain": [
       "                                file_name  label    x     y     w    h\n",
       "0     单瑕疵图片/不导电/不导电20180830131536对照样本.jpg      0    0   995  2560  414\n",
       "1     单瑕疵图片/不导电/不导电20180830131551对照样本.jpg      0    0  1036  2560  447\n",
       "2     单瑕疵图片/不导电/不导电20180830131628对照样本.jpg      0    0   979  2560  426\n",
       "3     单瑕疵图片/不导电/不导电20180830131827对照样本.jpg      0    0   121  2557  581\n",
       "4     单瑕疵图片/不导电/不导电20180830134330对照样本.jpg      0  961   463  1175  271\n",
       "5     单瑕疵图片/不导电/不导电20180830134402对照样本.jpg      0  728   314   235  296\n",
       "6     单瑕疵图片/不导电/不导电20180830134743对照样本.jpg      0  536     0   306  326\n",
       "7     单瑕疵图片/不导电/不导电20180830135013对照样本.jpg      0    0   754  2560  637\n",
       "8     单瑕疵图片/不导电/不导电20180830135838对照样本.jpg      0    0   760  2560  435\n",
       "9     单瑕疵图片/不导电/不导电20180830140724对照样本.jpg      0  146   169   763  320\n",
       "10    单瑕疵图片/不导电/不导电20180830140809对照样本.jpg      0  536   376   333  282\n",
       "11    单瑕疵图片/不导电/不导电20180830142508对照样本.jpg      0    0   517  2560  182\n",
       "12    单瑕疵图片/不导电/不导电20180830155325对照样本.jpg      0    0  1230  2560  379\n",
       "13    单瑕疵图片/不导电/不导电20180831100602对照样本.jpg      0    0  1281  2560  377\n",
       "14    单瑕疵图片/不导电/不导电20180831100625对照样本.jpg      0    0  1297  2560  394\n",
       "15    单瑕疵图片/不导电/不导电20180831101421对照样本.jpg      0    0   977  2560  426\n",
       "16    单瑕疵图片/不导电/不导电20180831101630对照样本.jpg      0    0   973  2560  383\n",
       "17    单瑕疵图片/不导电/不导电20180831101642对照样本.jpg      0    0  1103  2560  343\n",
       "18    单瑕疵图片/不导电/不导电20180831101753对照样本.jpg      0    0  1331  2560  327\n",
       "19    单瑕疵图片/不导电/不导电20180831101841对照样本.jpg      0    0  1115  2560  325\n",
       "20    单瑕疵图片/不导电/不导电20180831102055对照样本.jpg      0    0   707  2560  665\n",
       "21    单瑕疵图片/不导电/不导电20180831102726对照样本.jpg      0    0   658  2560  929\n",
       "22    单瑕疵图片/不导电/不导电20180831102759对照样本.jpg      0    0   858  2560  937\n",
       "23    单瑕疵图片/不导电/不导电20180831102813对照样本.jpg      0    0   981  2560  936\n",
       "24    单瑕疵图片/不导电/不导电20180831102827对照样本.jpg      0    0  1146  2560  774\n",
       "25    单瑕疵图片/不导电/不导电20180831102843对照样本.jpg      0    0   824  2560  887\n",
       "26    单瑕疵图片/不导电/不导电20180831102911对照样本.jpg      0    0   940  2560  902\n",
       "27    单瑕疵图片/不导电/不导电20180831102927对照样本.jpg      0    0   862  2560  884\n",
       "28    单瑕疵图片/不导电/不导电20180831102939对照样本.jpg      0    0   977  2560  889\n",
       "29    单瑕疵图片/不导电/不导电20180831103739对照样本.jpg      0    0  1128  2560  722\n",
       "...                                   ...    ...  ...   ...   ...  ...\n",
       "2746    单瑕疵图片/起坑/起坑20180929112130对照样本.jpg      7    0  1075  2560  216\n",
       "2747    单瑕疵图片/起坑/起坑20180929113243对照样本.jpg      7    0   753  2560  105\n",
       "2748    单瑕疵图片/起坑/起坑20180929113326对照样本.jpg      7    0   793  2560  106\n",
       "2749    单瑕疵图片/起坑/起坑20180929113333对照样本.jpg      7    0   720  2560  102\n",
       "2750    单瑕疵图片/起坑/起坑20180929113355对照样本.jpg      7    0   870  2560  113\n",
       "2751    单瑕疵图片/起坑/起坑20180929113453对照样本.jpg      7    0   872  2560  110\n",
       "2752    单瑕疵图片/起坑/起坑20180929113556对照样本.jpg      7    0   457  2560   87\n",
       "2753    单瑕疵图片/起坑/起坑20180929113606对照样本.jpg      7    0   793  2560   94\n",
       "2754    单瑕疵图片/起坑/起坑20180929113620对照样本.jpg      7    0   779  2560   75\n",
       "2755    单瑕疵图片/起坑/起坑20180929113625对照样本.jpg      7    0   815  2560   65\n",
       "2756    单瑕疵图片/起坑/起坑20180929113656对照样本.jpg      7    0   750  2560   47\n",
       "2757    单瑕疵图片/起坑/起坑20180929113720对照样本.jpg      7    0   915  2560   43\n",
       "2758    单瑕疵图片/起坑/起坑20180929113851对照样本.jpg      7    0  1454  2560   64\n",
       "2759    单瑕疵图片/起坑/起坑20180929113856对照样本.jpg      7    0  1003  2560   43\n",
       "2760    单瑕疵图片/起坑/起坑20180929113903对照样本.jpg      7    0  1105  2560   47\n",
       "2761    单瑕疵图片/起坑/起坑20180929114025对照样本.jpg      7    0   858  2560  100\n",
       "2762    单瑕疵图片/起坑/起坑20180929114032对照样本.jpg      7    0   822  2560   89\n",
       "2763    单瑕疵图片/起坑/起坑20180929114052对照样本.jpg      7    0   774  2560   85\n",
       "2764    单瑕疵图片/起坑/起坑20180929114104对照样本.jpg      7    0   617  2560   80\n",
       "2765    单瑕疵图片/起坑/起坑20180929114116对照样本.jpg      7    0   613  2560   70\n",
       "2766    单瑕疵图片/起坑/起坑20180929114147对照样本.jpg      7    0   930  2560   94\n",
       "2767    单瑕疵图片/起坑/起坑20180929114157对照样本.jpg      7    0   638  2560   71\n",
       "2768    单瑕疵图片/起坑/起坑20180929114836对照样本.jpg      7    0   824  2560   81\n",
       "2769    单瑕疵图片/起坑/起坑20180929115001对照样本.jpg      7    0   852  2560   61\n",
       "2770    单瑕疵图片/起坑/起坑20180929115023对照样本.jpg      7    0   826  2560   40\n",
       "2771    单瑕疵图片/起坑/起坑20180929115042对照样本.jpg      7    0  1209  2560   45\n",
       "2772    单瑕疵图片/起坑/起坑20180929120415对照样本.jpg      7    0  1101  2560  104\n",
       "2773    单瑕疵图片/起坑/起坑20180929120433对照样本.jpg      7    0  1036  2560   73\n",
       "2774    单瑕疵图片/起坑/起坑20180929120440对照样本.jpg      7    0  1217  2560   96\n",
       "2775    单瑕疵图片/起坑/起坑20180929120454对照样本.jpg      7    0  1209  2560   72\n",
       "\n",
       "[2776 rows x 6 columns]"
      ]
     },
     "execution_count": 4,
     "metadata": {},
     "output_type": "execute_result"
    }
   ],
   "source": [
    "df"
   ]
  },
  {
   "cell_type": "code",
   "execution_count": 7,
   "metadata": {},
   "outputs": [],
   "source": [
    "sample=df.iloc[0]"
   ]
  },
  {
   "cell_type": "code",
   "execution_count": 8,
   "metadata": {},
   "outputs": [
    {
     "data": {
      "text/plain": [
       "'单瑕疵图片/不导电/不导电20180830131536对照样本.jpg'"
      ]
     },
     "execution_count": 8,
     "metadata": {},
     "output_type": "execute_result"
    }
   ],
   "source": [
    "sample['file_name']"
   ]
  },
  {
   "cell_type": "code",
   "execution_count": 38,
   "metadata": {},
   "outputs": [
    {
     "data": {
      "text/plain": [
       "'单瑕疵图片/不导电/不导电20180830131536对照样本'"
      ]
     },
     "execution_count": 38,
     "metadata": {},
     "output_type": "execute_result"
    }
   ],
   "source": [
    "sample['file_name'][:-4]"
   ]
  },
  {
   "cell_type": "markdown",
   "metadata": {},
   "source": [
    "#### data_format = channels_last "
   ]
  },
  {
   "cell_type": "code",
   "execution_count": 10,
   "metadata": {},
   "outputs": [],
   "source": [
    "base_dir='F:/lvcai/guangdong_round2_train_20181011/'\n"
   ]
  },
  {
   "cell_type": "code",
   "execution_count": 12,
   "metadata": {},
   "outputs": [],
   "source": [
    "img=plt.imread(base_dir+sample['file_name'])"
   ]
  },
  {
   "cell_type": "code",
   "execution_count": 14,
   "metadata": {},
   "outputs": [
    {
     "data": {
      "text/plain": [
       "<matplotlib.image.AxesImage at 0xa6884e0>"
      ]
     },
     "execution_count": 14,
     "metadata": {},
     "output_type": "execute_result"
    },
    {
     "data": {
      "image/png": "[encoded data removed]",
      "text/plain": [
       "<Figure size 432x288 with 1 Axes>"
      ]
     },
     "metadata": {},
     "output_type": "display_data"
    }
   ],
   "source": [
    "plt.imshow(img)"
   ]
  },
  {
   "cell_type": "code",
   "execution_count": 15,
   "metadata": {},
   "outputs": [
    {
     "data": {
      "text/plain": [
       "(1920, 2560, 3)"
      ]
     },
     "execution_count": 15,
     "metadata": {},
     "output_type": "execute_result"
    }
   ],
   "source": [
    "img.shape"
   ]
  },
  {
   "cell_type": "code",
   "execution_count": 17,
   "metadata": {},
   "outputs": [],
   "source": [
    "w=1920\n",
    "h=2560\n",
    "c=10\n",
    "size=(w,h,c)\n",
    "tnpy=np.zeros(size)#test_npy"
   ]
  },
  {
   "cell_type": "code",
   "execution_count": 19,
   "metadata": {},
   "outputs": [
    {
     "data": {
      "text/plain": [
       "(1920, 2560, 10)"
      ]
     },
     "execution_count": 19,
     "metadata": {},
     "output_type": "execute_result"
    }
   ],
   "source": [
    "tnpy.shape"
   ]
  },
  {
   "cell_type": "markdown",
   "metadata": {},
   "source": [
    "#### 提取指定的那一层"
   ]
  },
  {
   "cell_type": "code",
   "execution_count": 21,
   "metadata": {},
   "outputs": [
    {
     "data": {
      "text/plain": [
       "(1920, 2560)"
      ]
     },
     "execution_count": 21,
     "metadata": {},
     "output_type": "execute_result"
    }
   ],
   "source": [
    "tnpy[:,:,0].shape"
   ]
  },
  {
   "cell_type": "code",
   "execution_count": 22,
   "metadata": {},
   "outputs": [
    {
     "data": {
      "text/plain": [
       "0"
      ]
     },
     "execution_count": 22,
     "metadata": {},
     "output_type": "execute_result"
    }
   ],
   "source": [
    "sample['label']"
   ]
  },
  {
   "cell_type": "code",
   "execution_count": 23,
   "metadata": {},
   "outputs": [
    {
     "data": {
      "text/plain": [
       "0"
      ]
     },
     "execution_count": 23,
     "metadata": {},
     "output_type": "execute_result"
    }
   ],
   "source": [
    "sample['x']"
   ]
  },
  {
   "cell_type": "code",
   "execution_count": 24,
   "metadata": {},
   "outputs": [
    {
     "data": {
      "text/plain": [
       "995"
      ]
     },
     "execution_count": 24,
     "metadata": {},
     "output_type": "execute_result"
    }
   ],
   "source": [
    "sample['y']"
   ]
  },
  {
   "cell_type": "code",
   "execution_count": 25,
   "metadata": {},
   "outputs": [
    {
     "data": {
      "text/plain": [
       "2560"
      ]
     },
     "execution_count": 25,
     "metadata": {},
     "output_type": "execute_result"
    }
   ],
   "source": [
    "sample['w']"
   ]
  },
  {
   "cell_type": "code",
   "execution_count": 26,
   "metadata": {},
   "outputs": [
    {
     "data": {
      "text/plain": [
       "414"
      ]
     },
     "execution_count": 26,
     "metadata": {},
     "output_type": "execute_result"
    }
   ],
   "source": [
    "sample['h']"
   ]
  },
  {
   "cell_type": "code",
   "execution_count": 27,
   "metadata": {},
   "outputs": [],
   "source": [
    "tslice=tnpy[:,:,0]"
   ]
  },
  {
   "cell_type": "code",
   "execution_count": 28,
   "metadata": {},
   "outputs": [],
   "source": [
    "tslice[sample['y']:sample['y'] + sample['h'] , sample['x']:sample['x']+sample['w']]=1"
   ]
  },
  {
   "cell_type": "code",
   "execution_count": 31,
   "metadata": {},
   "outputs": [
    {
     "data": {
      "text/plain": [
       "<matplotlib.image.AxesImage at 0xa702780>"
      ]
     },
     "execution_count": 31,
     "metadata": {},
     "output_type": "execute_result"
    },
    {
     "data": {
      "image/png": "[encoded data removed]",
      "text/plain": [
       "<Figure size 432x288 with 1 Axes>"
      ]
     },
     "metadata": {},
     "output_type": "display_data"
    }
   ],
   "source": [
    "plt.imshow(tslice)"
   ]
  },
  {
   "cell_type": "code",
   "execution_count": 33,
   "metadata": {},
   "outputs": [
    {
     "data": {
      "text/plain": [
       "array([ 1059840.,        0.,        0.,        0.,        0.,        0.,\n",
       "              0.,        0.,        0.,        0.])"
      ]
     },
     "execution_count": 33,
     "metadata": {},
     "output_type": "execute_result"
    }
   ],
   "source": [
    "sum(sum(tnpy))"
   ]
  },
  {
   "cell_type": "code",
   "execution_count": 41,
   "metadata": {},
   "outputs": [],
   "source": [
    "np.save('F:/lvcai/guangdong_round2_train_20181011/单瑕疵图片/tnpy.npy',tnpy)"
   ]
  },
  {
   "cell_type": "code",
   "execution_count": 37,
   "metadata": {},
   "outputs": [
    {
     "data": {
      "text/plain": [
       "(1920, 2560, 10)"
      ]
     },
     "execution_count": 37,
     "metadata": {},
     "output_type": "execute_result"
    }
   ],
   "source": [
    "np.load('tnpy.npy').shape"
   ]
  },
  {
   "cell_type": "code",
   "execution_count": 43,
   "metadata": {},
   "outputs": [
    {
     "data": {
      "text/plain": [
       "dtype('float64')"
      ]
     },
     "execution_count": 43,
     "metadata": {},
     "output_type": "execute_result"
    }
   ],
   "source": [
    "tnpy.dtype"
   ]
  },
  {
   "cell_type": "code",
   "execution_count": 45,
   "metadata": {},
   "outputs": [],
   "source": [
    "tnpy.dtype='int8'"
   ]
  },
  {
   "cell_type": "code",
   "execution_count": 46,
   "metadata": {},
   "outputs": [],
   "source": [
    "np.save('F:/lvcai/guangdong_round2_train_20181011/label/单瑕疵图片/tnpy.npy',tnpy)"
   ]
  },
  {
   "cell_type": "code",
   "execution_count": 47,
   "metadata": {},
   "outputs": [
    {
     "data": {
      "text/plain": [
       "dtype('int8')"
      ]
     },
     "execution_count": 47,
     "metadata": {},
     "output_type": "execute_result"
    }
   ],
   "source": [
    "tnpy.dtype"
   ]
  },
  {
   "cell_type": "code",
   "execution_count": 48,
   "metadata": {
    "collapsed": true
   },
   "outputs": [
    {
     "data": {
      "text/plain": [
       "array([[[0, 0, 0, ..., 0, 0, 0],\n",
       "        [0, 0, 0, ..., 0, 0, 0],\n",
       "        [0, 0, 0, ..., 0, 0, 0],\n",
       "        ..., \n",
       "        [0, 0, 0, ..., 0, 0, 0],\n",
       "        [0, 0, 0, ..., 0, 0, 0],\n",
       "        [0, 0, 0, ..., 0, 0, 0]],\n",
       "\n",
       "       [[0, 0, 0, ..., 0, 0, 0],\n",
       "        [0, 0, 0, ..., 0, 0, 0],\n",
       "        [0, 0, 0, ..., 0, 0, 0],\n",
       "        ..., \n",
       "        [0, 0, 0, ..., 0, 0, 0],\n",
       "        [0, 0, 0, ..., 0, 0, 0],\n",
       "        [0, 0, 0, ..., 0, 0, 0]],\n",
       "\n",
       "       [[0, 0, 0, ..., 0, 0, 0],\n",
       "        [0, 0, 0, ..., 0, 0, 0],\n",
       "        [0, 0, 0, ..., 0, 0, 0],\n",
       "        ..., \n",
       "        [0, 0, 0, ..., 0, 0, 0],\n",
       "        [0, 0, 0, ..., 0, 0, 0],\n",
       "        [0, 0, 0, ..., 0, 0, 0]],\n",
       "\n",
       "       ..., \n",
       "       [[0, 0, 0, ..., 0, 0, 0],\n",
       "        [0, 0, 0, ..., 0, 0, 0],\n",
       "        [0, 0, 0, ..., 0, 0, 0],\n",
       "        ..., \n",
       "        [0, 0, 0, ..., 0, 0, 0],\n",
       "        [0, 0, 0, ..., 0, 0, 0],\n",
       "        [0, 0, 0, ..., 0, 0, 0]],\n",
       "\n",
       "       [[0, 0, 0, ..., 0, 0, 0],\n",
       "        [0, 0, 0, ..., 0, 0, 0],\n",
       "        [0, 0, 0, ..., 0, 0, 0],\n",
       "        ..., \n",
       "        [0, 0, 0, ..., 0, 0, 0],\n",
       "        [0, 0, 0, ..., 0, 0, 0],\n",
       "        [0, 0, 0, ..., 0, 0, 0]],\n",
       "\n",
       "       [[0, 0, 0, ..., 0, 0, 0],\n",
       "        [0, 0, 0, ..., 0, 0, 0],\n",
       "        [0, 0, 0, ..., 0, 0, 0],\n",
       "        ..., \n",
       "        [0, 0, 0, ..., 0, 0, 0],\n",
       "        [0, 0, 0, ..., 0, 0, 0],\n",
       "        [0, 0, 0, ..., 0, 0, 0]]], dtype=int8)"
      ]
     },
     "execution_count": 48,
     "metadata": {},
     "output_type": "execute_result"
    }
   ],
   "source": [
    "tnpy.astype(np.int8)"
   ]
  },
  {
   "cell_type": "code",
   "execution_count": 49,
   "metadata": {},
   "outputs": [],
   "source": [
    "np.save('F:/lvcai/guangdong_round2_train_20181011/label/单瑕疵图片/tnpyint8.npy',tnpy)"
   ]
  },
  {
   "cell_type": "code",
   "execution_count": 50,
   "metadata": {},
   "outputs": [],
   "source": [
    "nnpy=np.zeros((480,640,10))"
   ]
  },
  {
   "cell_type": "code",
   "execution_count": 58,
   "metadata": {},
   "outputs": [
    {
     "name": "stdout",
     "output_type": "stream",
     "text": [
      "248 352 0 640\n"
     ]
    }
   ],
   "source": [
    "nslice=nnpy[:,:,0]\n",
    "\n",
    "x_start=int((sample['y']*480) /1920) \n",
    "x_end=int(((sample['y'] + sample['h'])*480) /1920) \n",
    "y_start=int((sample['x']*640) /2560) \n",
    "y_end=int(((sample['x']+sample['w'])*640) /2560) \n",
    "\n",
    "\n",
    "print(x_start,x_end,y_start,y_end)"
   ]
  },
  {
   "cell_type": "code",
   "execution_count": 57,
   "metadata": {},
   "outputs": [
    {
     "data": {
      "text/plain": [
       "248"
      ]
     },
     "execution_count": 57,
     "metadata": {},
     "output_type": "execute_result"
    }
   ],
   "source": [
    "int(x_start)"
   ]
  },
  {
   "cell_type": "code",
   "execution_count": 59,
   "metadata": {},
   "outputs": [],
   "source": [
    "nslice[x_start: x_end , y_start: y_end]=1"
   ]
  },
  {
   "cell_type": "code",
   "execution_count": 60,
   "metadata": {},
   "outputs": [
    {
     "data": {
      "text/plain": [
       "<matplotlib.image.AxesImage at 0xa9a9438>"
      ]
     },
     "execution_count": 60,
     "metadata": {},
     "output_type": "execute_result"
    },
    {
     "data": {
      "image/png": "[encoded data removed]",
      "text/plain": [
       "<Figure size 432x288 with 1 Axes>"
      ]
     },
     "metadata": {},
     "output_type": "display_data"
    }
   ],
   "source": [
    "plt.imshow(nslice)"
   ]
  },
  {
   "cell_type": "code",
   "execution_count": 61,
   "metadata": {},
   "outputs": [
    {
     "data": {
      "text/plain": [
       "array([[ 104.,    0.,    0., ...,    0.,    0.,    0.],\n",
       "       [ 104.,    0.,    0., ...,    0.,    0.,    0.],\n",
       "       [ 104.,    0.,    0., ...,    0.,    0.,    0.],\n",
       "       ..., \n",
       "       [ 104.,    0.,    0., ...,    0.,    0.,    0.],\n",
       "       [ 104.,    0.,    0., ...,    0.,    0.,    0.],\n",
       "       [ 104.,    0.,    0., ...,    0.,    0.,    0.]])"
      ]
     },
     "execution_count": 61,
     "metadata": {},
     "output_type": "execute_result"
    }
   ],
   "source": [
    "sum(nnpy)"
   ]
  },
  {
   "cell_type": "code",
   "execution_count": 62,
   "metadata": {},
   "outputs": [
    {
     "data": {
      "text/plain": [
       "(480, 640, 10)"
      ]
     },
     "execution_count": 62,
     "metadata": {},
     "output_type": "execute_result"
    }
   ],
   "source": [
    "nnpy.shape"
   ]
  },
  {
   "cell_type": "code",
   "execution_count": 67,
   "metadata": {},
   "outputs": [],
   "source": [
    "nnpy=nnpy.astype(np.int8);"
   ]
  },
  {
   "cell_type": "code",
   "execution_count": 68,
   "metadata": {},
   "outputs": [
    {
     "data": {
      "text/plain": [
       "dtype('int8')"
      ]
     },
     "execution_count": 68,
     "metadata": {},
     "output_type": "execute_result"
    }
   ],
   "source": [
    "nnpy.dtype"
   ]
  },
  {
   "cell_type": "code",
   "execution_count": 69,
   "metadata": {},
   "outputs": [],
   "source": [
    "np.save('F:/lvcai/guangdong_round2_train_20181011/label/单瑕疵图片/nnpyint8.npy',nnpy)"
   ]
  },
  {
   "cell_type": "code",
   "execution_count": 70,
   "metadata": {},
   "outputs": [
    {
     "ename": "FileNotFoundError",
     "evalue": "[Errno 2] No such file or directory: 'F:/lvcai/guangdong_round2_train_20181011/label/单瑕疵图片/nnpyint8.npy'",
     "output_type": "error",
     "traceback": [
      "\u001b[1;31m---------------------------------------------------------------------------\u001b[0m",
      "\u001b[1;31mFileNotFoundError\u001b[0m                         Traceback (most recent call last)",
      "\u001b[1;32m<ipython-input-70-94380f63da5e>\u001b[0m in \u001b[0;36m<module>\u001b[1;34m()\u001b[0m\n\u001b[1;32m----> 1\u001b[1;33m \u001b[0mnn\u001b[0m\u001b[1;33m=\u001b[0m\u001b[0mnp\u001b[0m\u001b[1;33m.\u001b[0m\u001b[0mload\u001b[0m\u001b[1;33m(\u001b[0m\u001b[1;34m'F:/lvcai/guangdong_round2_train_20181011/label/单瑕疵图片/nnpyint8.npy'\u001b[0m\u001b[1;33m)\u001b[0m\u001b[1;33m\u001b[0m\u001b[0m\n\u001b[0m",
      "\u001b[1;32mE:\\Anaconda\\envs\\tensorflow\\lib\\site-packages\\numpy\\lib\\npyio.py\u001b[0m in \u001b[0;36mload\u001b[1;34m(file, mmap_mode, allow_pickle, fix_imports, encoding)\u001b[0m\n\u001b[0;32m    368\u001b[0m     \u001b[0mown_fid\u001b[0m \u001b[1;33m=\u001b[0m \u001b[1;32mFalse\u001b[0m\u001b[1;33m\u001b[0m\u001b[0m\n\u001b[0;32m    369\u001b[0m     \u001b[1;32mif\u001b[0m \u001b[0misinstance\u001b[0m\u001b[1;33m(\u001b[0m\u001b[0mfile\u001b[0m\u001b[1;33m,\u001b[0m \u001b[0mbasestring\u001b[0m\u001b[1;33m)\u001b[0m\u001b[1;33m:\u001b[0m\u001b[1;33m\u001b[0m\u001b[0m\n\u001b[1;32m--> 370\u001b[1;33m         \u001b[0mfid\u001b[0m \u001b[1;33m=\u001b[0m \u001b[0mopen\u001b[0m\u001b[1;33m(\u001b[0m\u001b[0mfile\u001b[0m\u001b[1;33m,\u001b[0m \u001b[1;34m\"rb\"\u001b[0m\u001b[1;33m)\u001b[0m\u001b[1;33m\u001b[0m\u001b[0m\n\u001b[0m\u001b[0;32m    371\u001b[0m         \u001b[0mown_fid\u001b[0m \u001b[1;33m=\u001b[0m \u001b[1;32mTrue\u001b[0m\u001b[1;33m\u001b[0m\u001b[0m\n\u001b[0;32m    372\u001b[0m     \u001b[1;32melif\u001b[0m \u001b[0mis_pathlib_path\u001b[0m\u001b[1;33m(\u001b[0m\u001b[0mfile\u001b[0m\u001b[1;33m)\u001b[0m\u001b[1;33m:\u001b[0m\u001b[1;33m\u001b[0m\u001b[0m\n",
      "\u001b[1;31mFileNotFoundError\u001b[0m: [Errno 2] No such file or directory: 'F:/lvcai/guangdong_round2_train_20181011/label/单瑕疵图片/nnpyint8.npy'"
     ]
    }
   ],
   "source": [
    "nn=np.load('F:/lvcai/guangdong_round2_train_20181011/label/单瑕疵图片/nnpyint8.npy')"
   ]
  },
  {
   "cell_type": "code",
   "execution_count": null,
   "metadata": {},
   "outputs": [],
   "source": []
  }
 ],
 "metadata": {
  "kernelspec": {
   "display_name": "Python 3",
   "language": "python",
   "name": "python3"
  },
  "language_info": {
   "codemirror_mode": {
    "name": "ipython",
    "version": 3
   },
   "file_extension": ".py",
   "mimetype": "text/x-python",
   "name": "python",
   "nbconvert_exporter": "python",
   "pygments_lexer": "ipython3",
   "version": "3.5.5"
  }
 },
 "nbformat": 4,
 "nbformat_minor": 2
}
